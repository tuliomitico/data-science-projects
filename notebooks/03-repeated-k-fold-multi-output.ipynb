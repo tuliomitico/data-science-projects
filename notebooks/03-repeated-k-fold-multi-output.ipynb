{
 "cells": [
  {
   "cell_type": "markdown",
   "id": "ed2a6c95",
   "metadata": {},
   "source": [
    "# Repeated K Fold with multi-output classification\n",
    "\n",
    "The intention of this notebook is provide a way to get the mean and std deviation of each repetition."
   ]
  },
  {
   "cell_type": "code",
   "execution_count": null,
   "id": "e7afaf36",
   "metadata": {},
   "outputs": [],
   "source": [
    "from collections import defaultdict\n",
    "\n",
    "import pandas as pd\n",
    "import numpy as np\n",
    "from sklearn.datasets import fetch_openml\n",
    "from sklearn.metrics import (\n",
    "    accuracy_score, precision_score, recall_score, \n",
    "    plot_confusion_matrix, plot_roc_curve, plot_precision_recall_curve,\n",
    "    multilabel_confusion_matrix, precision_recall_fscore_support\n",
    ")\n",
    "from sklearn.model_selection import RepeatedKFold\n",
    "from sklearn.neighbors import KNeighborsClassifier\n",
    "from sklearn.preprocessing import LabelEncoder"
   ]
  },
  {
   "cell_type": "markdown",
   "id": "62d10731",
   "metadata": {},
   "source": [
    "## Dataset\n",
    "\n",
    "We will use the `reuters` dataset v.2, because the multioutput property."
   ]
  },
  {
   "cell_type": "code",
   "execution_count": null,
   "id": "3f9cae53",
   "metadata": {},
   "outputs": [],
   "source": [
    "data, target = fetch_openml(data_id=41470, return_X_y=True, as_frame=True)"
   ]
  },
  {
   "cell_type": "markdown",
   "id": "6da88b6c",
   "metadata": {},
   "source": [
    "### The firt 5 rows of the features"
   ]
  },
  {
   "cell_type": "code",
   "execution_count": null,
   "id": "f11a8e4d",
   "metadata": {},
   "outputs": [],
   "source": [
    "data.head()"
   ]
  },
  {
   "cell_type": "markdown",
   "id": "b92aed49",
   "metadata": {},
   "source": [
    "### The firt 5 rows of the classes"
   ]
  },
  {
   "cell_type": "code",
   "execution_count": null,
   "id": "44c54157",
   "metadata": {},
   "outputs": [],
   "source": [
    "target.head()"
   ]
  },
  {
   "cell_type": "markdown",
   "id": "2a01cf80",
   "metadata": {},
   "source": [
    "## Preprocessing\n",
    "\n",
    "We will convert the classes in numerical instances"
   ]
  },
  {
   "cell_type": "code",
   "execution_count": null,
   "id": "e30fdc6a",
   "metadata": {},
   "outputs": [],
   "source": [
    "le = LabelEncoder()"
   ]
  },
  {
   "cell_type": "markdown",
   "id": "308bcca9",
   "metadata": {},
   "source": [
    "## Classifier Estimator\n",
    "\n",
    "We will use a graph based classifier the K Neighbors Classificator."
   ]
  },
  {
   "cell_type": "code",
   "execution_count": null,
   "id": "1cbdfbb0",
   "metadata": {},
   "outputs": [],
   "source": [
    "knn = KNeighborsClassifier(n_neighbors=10,n_jobs=4)"
   ]
  },
  {
   "cell_type": "markdown",
   "id": "7cf478c7",
   "metadata": {},
   "source": [
    "## Cross Validation\n",
    "\n",
    "To simulate the same behavior of a published article, we will use a 10-fold with 30 repetitions."
   ]
  },
  {
   "cell_type": "code",
   "execution_count": null,
   "id": "576bb00c",
   "metadata": {},
   "outputs": [],
   "source": [
    "rkf = RepeatedKFold(n_splits=10,n_repeats=30,random_state=2022)"
   ]
  },
  {
   "cell_type": "markdown",
   "id": "65a9dd74",
   "metadata": {},
   "source": [
    "Here we make list to store the each fold metrics, being these methods: `accuracy_score`,`precision_score`,`recall_score` and `multilabel_confusion_matrix`. The `default_dicts` are used to make the means's and the std's."
   ]
  },
  {
   "cell_type": "code",
   "execution_count": null,
   "id": "78d511cb",
   "metadata": {},
   "outputs": [],
   "source": [
    "scores_acc = []\n",
    "scores_precision = [] \n",
    "scores_recall = []\n",
    "scores_mc = []\n",
    "\n",
    "# TODO: Improve the average and standard deviation\n",
    "table_acc = defaultdict(list)\n",
    "table_precision = defaultdict(list)\n",
    "table_recall = defaultdict(list)\n",
    "table_cm = defaultdict(list)"
   ]
  },
  {
   "cell_type": "code",
   "execution_count": null,
   "id": "e1d5224a",
   "metadata": {},
   "outputs": [],
   "source": [
    "for i,(train, test) in enumerate(rkf.split(data, target)):\n",
    "    X_train, X_test = data.values[train], data.values[test]\n",
    "    y_train, y_test = target.values[train], target.values[test]\n",
    "    \n",
    "    encoded_y_train = np.empty(y_train.shape)\n",
    "    encoded_y_test = np.empty(y_test.shape)\n",
    "    for i in range(y_train.shape[1]):\n",
    "        encoded_y_train[:,i] = le.fit_transform(y_train[:,i])\n",
    "        encoded_y_test[:,i] = le.transform(y_test[:,i])\n",
    "        \n",
    "    \n",
    "    knn.fit(X_train, encoded_y_train)\n",
    "    \n",
    "    y_pred = knn.predict(X_test)\n",
    "    \n",
    "    pred = y_pred.ravel()\n",
    "    \n",
    "    score_acc = accuracy_score(encoded_y_test, y_pred,)\n",
    "    scores_acc.append(score_acc)\n",
    "    \n",
    "    score_precision = precision_score(encoded_y_test, y_pred, average='micro', zero_division='warn')\n",
    "    scores_precision.append(score_precision)\n",
    "    \n",
    "    score_recall = recall_score(encoded_y_test, y_pred, average='micro', zero_division='warn')\n",
    "    scores_recall.append(scores_recall)\n",
    "    \n",
    "# TODO: Put in a pandas DataFrame to be better visualized.    \n",
    "#     print(multilabel_confusion_matrix(encoded_y_test, y_pred))\n",
    "#     print('*' * 80)\n",
    "#     print(score_acc)\n",
    "#     print('=' * 80)\n",
    "#     print(score_precision)\n",
    "#     print('-' * 80)\n",
    "#     print(score_recall)\n",
    "#     print('.' * 80)\n",
    "#     print(precision_recall_fscore_support(encoded_y_test, y_pred, average=None, zero_division='warn',))"
   ]
  },
  {
   "cell_type": "code",
   "execution_count": null,
   "id": "1e609826",
   "metadata": {},
   "outputs": [],
   "source": [
    "for j in range(0,rkf.get_n_splits(),10):\n",
    "    aux = j + 10\n",
    "    if aux <= rkf.get_n_splits():\n",
    "        if aux % 10 == 0:\n",
    "            table_acc['Accuracy_mean'].append(np.mean(scores_acc[j:aux]))\n",
    "            table_acc['Accuracy_std'].append(np.std(scores_acc[j:aux]))\n",
    "            \n",
    "            table_precision['Precision_mean'].append(np.mean(scores_precision[j:aux]))\n",
    "            table_precision['Precision_std'].append(np.std(scores_precision[j:aux]))\n",
    "            \n",
    "            table_recall['Recall_mean'].append(np.mean(scores_recall[j:aux]))\n",
    "            table_recall['Recall_std'].append(np.std(scores_recall[j:aux]))\n",
    "        \n",
    "# display(table_acc)\n",
    "# display(table_precision)\n",
    "# display(table_recall)"
   ]
  }
 ],
 "metadata": {
  "kernelspec": {
   "display_name": "Python 3 (ipykernel)",
   "language": "python",
   "name": "python3"
  },
  "language_info": {
   "codemirror_mode": {
    "name": "ipython",
    "version": 3
   },
   "file_extension": ".py",
   "mimetype": "text/x-python",
   "name": "python",
   "nbconvert_exporter": "python",
   "pygments_lexer": "ipython3",
   "version": "3.7.11"
  }
 },
 "nbformat": 4,
 "nbformat_minor": 5
}
